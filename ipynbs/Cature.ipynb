{
 "cells": [
  {
   "cell_type": "code",
   "execution_count": 1,
   "metadata": {
    "collapsed": true
   },
   "outputs": [],
   "source": [
    "import numpy as np"
   ]
  },
  {
   "cell_type": "code",
   "execution_count": 2,
   "metadata": {},
   "outputs": [],
   "source": [
    "class Possibly(object):\n",
    "    \"\"\"Cature Exception if function exception occurred \n",
    "    \n",
    "    if function result occur exception then this decorator help you cature and return specified value(defaule: numpy.NaN)\n",
    "    \"\"\"\n",
    "    otherwise_all = np.NaN\n",
    "    quiet_all = True\n",
    "    def __init__(self, otherwise=np.NaN, quiet = True):\n",
    "        self.otherwise = otherwise\n",
    "        self.quiet = quiet\n",
    "\n",
    "    def __call__(self, func):\n",
    "        def result_func(*args, **kargs):\n",
    "            try:\n",
    "                result = func(*args, **kargs)\n",
    "            except Exception as e:\n",
    "                result = self.otherwise\n",
    "                if not self.quiet:\n",
    "                    print(e)\n",
    "            return result\n",
    "        return result_func\n",
    "\n",
    "    @classmethod\n",
    "    def possibly(cls, func):\n",
    "        def result_func(*args, **kargs):\n",
    "            try:\n",
    "                result = func(*args, **kargs)\n",
    "            except Exception as e:\n",
    "                result = cls.otherwise_all\n",
    "                if not cls.quiet_all:\n",
    "                    print(e)\n",
    "            return result\n",
    "        return result_func\n"
   ]
  },
  {
   "cell_type": "code",
   "execution_count": 3,
   "metadata": {
    "collapsed": true
   },
   "outputs": [],
   "source": [
    "import math"
   ]
  },
  {
   "cell_type": "code",
   "execution_count": 4,
   "metadata": {},
   "outputs": [],
   "source": [
    "@Possibly()\n",
    "def log_possibly(x):\n",
    "    return math.log(x)"
   ]
  },
  {
   "cell_type": "code",
   "execution_count": 5,
   "metadata": {},
   "outputs": [],
   "source": [
    "assert np.isclose(log_possibly(10), math.log(10)), 'Must result is True'"
   ]
  },
  {
   "cell_type": "code",
   "execution_count": 6,
   "metadata": {},
   "outputs": [],
   "source": [
    "assert np.isnan(log_possibly(-10)), 'Must result is True'"
   ]
  },
  {
   "cell_type": "code",
   "execution_count": 7,
   "metadata": {
    "collapsed": true
   },
   "outputs": [],
   "source": [
    "@Possibly(otherwise=-1)\n",
    "def log_possibly(x):\n",
    "    return math.log(x)\n",
    "assert np.isclose(log_possibly(-10), -1), 'Must result is True'"
   ]
  },
  {
   "cell_type": "code",
   "execution_count": 8,
   "metadata": {
    "collapsed": true
   },
   "outputs": [],
   "source": [
    "assert np.isclose(Possibly.possibly(math.log)(10), math.log(10)), 'Must result is True'"
   ]
  },
  {
   "cell_type": "code",
   "execution_count": 9,
   "metadata": {},
   "outputs": [],
   "source": [
    "assert np.isnan(Possibly.possibly(math.log)(-1)), 'Must result is True'"
   ]
  },
  {
   "cell_type": "code",
   "execution_count": null,
   "metadata": {
    "collapsed": true
   },
   "outputs": [],
   "source": []
  },
  {
   "cell_type": "code",
   "execution_count": 10,
   "metadata": {},
   "outputs": [
    {
     "name": "stdout",
     "output_type": "stream",
     "text": [
      "math domain error\n"
     ]
    }
   ],
   "source": [
    "Possibly.otherwise_all = 1\n",
    "Possibly.quiet_all = False\n",
    "assert np.isclose(Possibly.possibly(math.log)(-1), 1), 'Must result is True'"
   ]
  },
  {
   "cell_type": "code",
   "execution_count": null,
   "metadata": {
    "collapsed": true
   },
   "outputs": [],
   "source": []
  },
  {
   "cell_type": "code",
   "execution_count": 11,
   "metadata": {
    "collapsed": true
   },
   "outputs": [],
   "source": [
    "class Safely(object):\n",
    "    \"\"\"Cature Exception if function exception occurred \n",
    "    \n",
    "    This decorator will change function result to dict with two key.\n",
    "    result: function result if no exception occurred, None if exception occurred\n",
    "    error: None if no exception occurred, exception string if exception occurred\n",
    "    \"\"\"\n",
    "    otherwise_all = np.NaN\n",
    "    quiet_all = True\n",
    "    def __init__(self, otherwise=np.NaN, quiet = True):\n",
    "        self.otherwise = otherwise\n",
    "        self.quiet = quiet\n",
    "\n",
    "    def __call__(self, func):\n",
    "        def result_func(*args, **kargs):\n",
    "            result_dict = {}\n",
    "            try:\n",
    "                result_dict['result'] = func(*args, **kargs)\n",
    "                result_dict['error'] = None\n",
    "            except Exception as e:\n",
    "                result_dict['result'] = self.otherwise\n",
    "                result_dict['error'] = str(e)\n",
    "                if not self.quiet:\n",
    "                    print(e)\n",
    "            return result_dict\n",
    "        return result_func\n",
    "    \n",
    "    @classmethod\n",
    "    def safely(cls, func):\n",
    "        def result_func(*args, **kargs):\n",
    "            result_dict = {}\n",
    "            try:\n",
    "                result_dict['result'] = func(*args, **kargs)\n",
    "                result_dict['error'] = None\n",
    "            except Exception as e:\n",
    "                result_dict['result'] = cls.otherwise_all\n",
    "                result_dict['error'] = str(e)\n",
    "                if not cls.quiet_all:\n",
    "                    print(e)\n",
    "            return result_dict\n",
    "        return result_func"
   ]
  },
  {
   "cell_type": "code",
   "execution_count": 12,
   "metadata": {
    "collapsed": true
   },
   "outputs": [],
   "source": [
    "@Safely()\n",
    "def log_safely(x):\n",
    "    return math.log(x)"
   ]
  },
  {
   "cell_type": "code",
   "execution_count": 13,
   "metadata": {},
   "outputs": [],
   "source": [
    "result_log = log_safely(10)\n",
    "assert np.isclose(result_log['result'], math.log(10)), 'Must result be True'\n",
    "assert result_log['error'] is None, 'Must result be None'"
   ]
  },
  {
   "cell_type": "code",
   "execution_count": 14,
   "metadata": {},
   "outputs": [],
   "source": [
    "result_log2 = log_safely(-10)\n",
    "assert np.isnan(result_log2['result']), 'Must result is True'\n",
    "assert result_log2['error'] is not None, 'Must result is True'"
   ]
  },
  {
   "cell_type": "code",
   "execution_count": 15,
   "metadata": {},
   "outputs": [],
   "source": [
    "result_log3 = Safely.safely(math.log)(10)\n",
    "assert np.isclose(result_log3['result'], math.log(10)), 'Must result is True'\n",
    "assert result_log3['error'] is None, 'Must result is True'"
   ]
  },
  {
   "cell_type": "code",
   "execution_count": 16,
   "metadata": {},
   "outputs": [],
   "source": [
    "result_log4 = Safely.safely(math.log)(-1)\n",
    "assert np.isnan(result_log4['result']), 'Must result is True'\n",
    "assert result_log4['error'] is not None, 'Must result is True'"
   ]
  },
  {
   "cell_type": "code",
   "execution_count": 17,
   "metadata": {},
   "outputs": [
    {
     "name": "stdout",
     "output_type": "stream",
     "text": [
      "math domain error\n"
     ]
    }
   ],
   "source": [
    "Safely.otherwise_all = -1\n",
    "Safely.quiet_all = False\n",
    "result_log5 = Safely.safely(math.log)(-1)\n",
    "assert np.isclose(result_log5['result'], -1), 'Must result is True'\n",
    "assert result_log5['error'] is not None, 'Must result is True'"
   ]
  },
  {
   "cell_type": "code",
   "execution_count": null,
   "metadata": {
    "collapsed": true
   },
   "outputs": [],
   "source": []
  }
 ],
 "metadata": {
  "kernelspec": {
   "display_name": "Python 3",
   "language": "python",
   "name": "python3"
  },
  "language_info": {
   "codemirror_mode": {
    "name": "ipython",
    "version": 3
   },
   "file_extension": ".py",
   "mimetype": "text/x-python",
   "name": "python",
   "nbconvert_exporter": "python",
   "pygments_lexer": "ipython3",
   "version": "3.6.3"
  }
 },
 "nbformat": 4,
 "nbformat_minor": 2
}
