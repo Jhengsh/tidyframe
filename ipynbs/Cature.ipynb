{
 "cells": [
  {
   "cell_type": "code",
   "execution_count": 1,
   "metadata": {
    "collapsed": true
   },
   "outputs": [],
   "source": [
    "import math\n",
    "import numpy as np\n",
    "from tidyframe import Possibly, Safely"
   ]
  },
  {
   "cell_type": "markdown",
   "metadata": {},
   "source": [
    "# Possibly"
   ]
  },
  {
   "cell_type": "code",
   "execution_count": 2,
   "metadata": {
    "collapsed": true
   },
   "outputs": [],
   "source": [
    "@Possibly()\n",
    "def log_possibly(x):\n",
    "    return math.log(x)"
   ]
  },
  {
   "cell_type": "code",
   "execution_count": 3,
   "metadata": {
    "collapsed": true
   },
   "outputs": [],
   "source": [
    "assert np.isclose(log_possibly(10), math.log(10)), 'Must result is True'"
   ]
  },
  {
   "cell_type": "code",
   "execution_count": 4,
   "metadata": {
    "collapsed": true
   },
   "outputs": [],
   "source": [
    "assert np.isnan(log_possibly(-10)), 'Must result is True'"
   ]
  },
  {
   "cell_type": "code",
   "execution_count": 5,
   "metadata": {
    "collapsed": true
   },
   "outputs": [],
   "source": [
    "@Possibly(otherwise=-1)\n",
    "def log_possibly(x):\n",
    "    return math.log(x)\n",
    "assert np.isclose(log_possibly(-10), -1), 'Must result is True'"
   ]
  },
  {
   "cell_type": "code",
   "execution_count": 6,
   "metadata": {
    "collapsed": true
   },
   "outputs": [],
   "source": [
    "assert np.isclose(Possibly.possibly(math.log)(10), math.log(10)), 'Must result is True'"
   ]
  },
  {
   "cell_type": "code",
   "execution_count": 7,
   "metadata": {
    "collapsed": true
   },
   "outputs": [],
   "source": [
    "assert np.isnan(Possibly.possibly(math.log)(-1)), 'Must result is True'"
   ]
  },
  {
   "cell_type": "code",
   "execution_count": 8,
   "metadata": {},
   "outputs": [
    {
     "name": "stdout",
     "output_type": "stream",
     "text": [
      "math domain error\n"
     ]
    }
   ],
   "source": [
    "Possibly.otherwise_all = 1\n",
    "Possibly.quiet_all = False\n",
    "assert np.isclose(Possibly.possibly(math.log)(-1), 1), 'Must result is True'"
   ]
  },
  {
   "cell_type": "markdown",
   "metadata": {},
   "source": [
    "# Safely"
   ]
  },
  {
   "cell_type": "code",
   "execution_count": 9,
   "metadata": {
    "collapsed": true
   },
   "outputs": [],
   "source": [
    "@Safely()\n",
    "def log_safely(x):\n",
    "    return math.log(x)"
   ]
  },
  {
   "cell_type": "code",
   "execution_count": 10,
   "metadata": {
    "collapsed": true
   },
   "outputs": [],
   "source": [
    "result_log = log_safely(10)\n",
    "assert np.isclose(result_log['result'], math.log(10)), 'Must result be True'\n",
    "assert result_log['error'] is None, 'Must result be None'"
   ]
  },
  {
   "cell_type": "code",
   "execution_count": 11,
   "metadata": {
    "collapsed": true
   },
   "outputs": [],
   "source": [
    "result_log2 = log_safely(-10)\n",
    "assert np.isnan(result_log2['result']), 'Must result is True'\n",
    "assert result_log2['error'] is not None, 'Must result is True'"
   ]
  },
  {
   "cell_type": "code",
   "execution_count": 12,
   "metadata": {
    "collapsed": true
   },
   "outputs": [],
   "source": [
    "result_log3 = Safely.safely(math.log)(10)\n",
    "assert np.isclose(result_log3['result'], math.log(10)), 'Must result is True'\n",
    "assert result_log3['error'] is None, 'Must result is True'"
   ]
  },
  {
   "cell_type": "code",
   "execution_count": 13,
   "metadata": {
    "collapsed": true
   },
   "outputs": [],
   "source": [
    "result_log4 = Safely.safely(math.log)(-1)\n",
    "assert np.isnan(result_log4['result']), 'Must result is True'\n",
    "assert result_log4['error'] is not None, 'Must result is True'"
   ]
  },
  {
   "cell_type": "code",
   "execution_count": 14,
   "metadata": {},
   "outputs": [
    {
     "name": "stdout",
     "output_type": "stream",
     "text": [
      "math domain error\n"
     ]
    }
   ],
   "source": [
    "Safely.otherwise_all = -1\n",
    "Safely.quiet_all = False\n",
    "result_log5 = Safely.safely(math.log)(-1)\n",
    "assert np.isclose(result_log5['result'], -1), 'Must result is True'\n",
    "assert result_log5['error'] is not None, 'Must result is True'"
   ]
  }
 ],
 "metadata": {
  "kernelspec": {
   "display_name": "Python 3",
   "language": "python",
   "name": "python3"
  },
  "language_info": {
   "codemirror_mode": {
    "name": "ipython",
    "version": 3
   },
   "file_extension": ".py",
   "mimetype": "text/x-python",
   "name": "python",
   "nbconvert_exporter": "python",
   "pygments_lexer": "ipython3",
   "version": "3.6.3"
  }
 },
 "nbformat": 4,
 "nbformat_minor": 2
}
