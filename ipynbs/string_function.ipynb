{
 "cells": [
  {
   "cell_type": "code",
   "execution_count": 1,
   "metadata": {},
   "outputs": [],
   "source": [
    "from tidyframe.tools.string import (uppercase_letters, uppercase_fullwidth_letters,\n",
    "                                    lowercase_letters, lowercase_fullwidth_letters,\n",
    "                                    digits, fullwidth_digits,\n",
    "                                    symbol, fullwidth_symbol,\n",
    "                                    whitespace, replace_by_dict)"
   ]
  },
  {
   "cell_type": "markdown",
   "metadata": {},
   "source": [
    "+ **replace_by_dict** help you using replace string by dict\n",
    "+ many variable to help you create mapping dict"
   ]
  },
  {
   "cell_type": "code",
   "execution_count": 2,
   "metadata": {},
   "outputs": [
    {
     "name": "stdout",
     "output_type": "stream",
     "text": [
      "uppercase letters          :  A/B/C/D/E/F/G/H/I/J/K/L/M/N/O/P/Q/R/S/T/U/V/W/X/Y/Z\n",
      "uppercase fullwidth letters:  Ａ/Ｂ/Ｃ/Ｄ/Ｅ/Ｆ/Ｇ/Ｈ/Ｉ/Ｊ/Ｋ/Ｌ/Ｍ/Ｎ/Ｏ/Ｐ/Ｑ/Ｒ/Ｓ/Ｔ/Ｕ/Ｖ/Ｗ/Ｘ/Ｙ/Ｚ\n",
      "lowercase letters          :  a/b/c/d/e/f/g/h/i/j/k/l/m/n/o/p/q/r/s/t/u/v/w/x/y/z\n",
      "lowercase fullwidth letters:  ａ/ｂ/ｃ/ｄ/ｅ/ｆ/ｇ/ｈ/ｉ/ｊ/ｋ/ｌ/ｍ/ｎ/ｏ/ｐ/ｑ/ｒ/ｓ/ｔ/ｕ/ｖ/ｗ/ｘ/ｙ/ｚ\n",
      "digits          :  0/1/2/3/4/5/6/7/8/9\n",
      "fullwidth digits:  ０/１/２/３/４/５/６/７/８/９\n",
      "symbol          :  !/\"/#/$/%/&/'/(/)/*/+/,/-/.///:/;/</=/>/?/[/\\/]/^/_/`/{/|/}/~/(/)/｡/｢/｣/,/.\n",
      "fullwidth symbol:  ！/＂/＃/＄/％/＆/＇/（/）/＊/＋/，/－/．/／/：/；/＜/＝/＞/？/［/＼/］/＾/＿/｀/｛/｜/｝/～/｟/｠/｡/｢/｣/､/･\n"
     ]
    }
   ],
   "source": [
    "print('uppercase letters          : ', '/'.join(uppercase_letters))\n",
    "print('uppercase fullwidth letters: ', '/'.join(uppercase_fullwidth_letters))\n",
    "print('lowercase letters          : ', '/'.join(lowercase_letters))\n",
    "print('lowercase fullwidth letters: ', '/'.join(lowercase_fullwidth_letters))\n",
    "print('digits          : ', '/'.join(digits))\n",
    "print('fullwidth digits: ', '/'.join(fullwidth_digits))\n",
    "print('symbol          : ', '/'.join(symbol))\n",
    "print('fullwidth symbol: ', '/'.join(fullwidth_symbol))"
   ]
  },
  {
   "cell_type": "code",
   "execution_count": 3,
   "metadata": {},
   "outputs": [
    {
     "data": {
      "text/plain": [
       "'Ａ/Ｂ/Ｃ/Ｄ/Ｅ/Ｆ/Ｇ/Ｈ/Ｉ/Ｊ/Ｋ/Ｌ/Ｍ/Ｎ/Ｏ/Ｐ/Ｑ/Ｒ/Ｓ/Ｔ/Ｕ/Ｖ/Ｗ/Ｘ/Ｙ/Ｚ'"
      ]
     },
     "execution_count": 3,
     "metadata": {},
     "output_type": "execute_result"
    }
   ],
   "source": [
    "map_uppercase_letters = { x:y for x,y  in zip(uppercase_letters, uppercase_fullwidth_letters)}\n",
    "replace_by_dict('/'.join(uppercase_letters), map_uppercase_letters)"
   ]
  },
  {
   "cell_type": "code",
   "execution_count": 4,
   "metadata": {},
   "outputs": [
    {
     "data": {
      "text/plain": [
       "'ａ/ｂ/ｃ/ｄ/ｅ/ｆ/ｇ/ｈ/ｉ/ｊ/ｋ/ｌ/ｍ/ｎ/ｏ/ｐ/ｑ/ｒ/ｓ/ｔ/ｕ/ｖ/ｗ/ｘ/ｙ/ｚ'"
      ]
     },
     "execution_count": 4,
     "metadata": {},
     "output_type": "execute_result"
    }
   ],
   "source": [
    "map_lowercase_letters = { x:y for x,y  in zip(lowercase_letters, lowercase_fullwidth_letters)}\n",
    "replace_by_dict('/'.join(lowercase_letters), map_lowercase_letters)"
   ]
  },
  {
   "cell_type": "code",
   "execution_count": 5,
   "metadata": {},
   "outputs": [
    {
     "data": {
      "text/plain": [
       "'０/１/２/３/４/５/６/７/８/９'"
      ]
     },
     "execution_count": 5,
     "metadata": {},
     "output_type": "execute_result"
    }
   ],
   "source": [
    "map_lowercase_letters = { x:y for x,y  in zip(digits, fullwidth_digits)}\n",
    "replace_by_dict('/'.join(digits), map_lowercase_letters)"
   ]
  },
  {
   "cell_type": "markdown",
   "metadata": {},
   "source": [
    "+ Be careful **symbol** is not unique!!"
   ]
  },
  {
   "cell_type": "code",
   "execution_count": 6,
   "metadata": {},
   "outputs": [
    {
     "data": {
      "text/plain": [
       "(38, 34)"
      ]
     },
     "execution_count": 6,
     "metadata": {},
     "output_type": "execute_result"
    }
   ],
   "source": [
    "len(symbol), len(set(symbol))"
   ]
  },
  {
   "cell_type": "code",
   "execution_count": 7,
   "metadata": {},
   "outputs": [
    {
     "data": {
      "text/plain": [
       "[('!', '！', 33, 65281),\n",
       " ('\"', '＂', 34, 65282),\n",
       " ('#', '＃', 35, 65283),\n",
       " ('$', '＄', 36, 65284),\n",
       " ('%', '％', 37, 65285),\n",
       " ('&', '＆', 38, 65286),\n",
       " (\"'\", '＇', 39, 65287),\n",
       " ('(', '（', 40, 65288),\n",
       " (')', '）', 41, 65289),\n",
       " ('*', '＊', 42, 65290),\n",
       " ('+', '＋', 43, 65291),\n",
       " (',', '，', 44, 65292),\n",
       " ('-', '－', 45, 65293),\n",
       " ('.', '．', 46, 65294),\n",
       " ('/', '／', 47, 65295),\n",
       " (':', '：', 58, 65306),\n",
       " (';', '；', 59, 65307),\n",
       " ('<', '＜', 60, 65308),\n",
       " ('=', '＝', 61, 65309),\n",
       " ('>', '＞', 62, 65310),\n",
       " ('?', '？', 63, 65311),\n",
       " ('[', '［', 91, 65339),\n",
       " ('\\\\', '＼', 92, 65340),\n",
       " (']', '］', 93, 65341),\n",
       " ('^', '＾', 94, 65342),\n",
       " ('_', '＿', 95, 65343),\n",
       " ('`', '｀', 96, 65344),\n",
       " ('{', '｛', 123, 65371),\n",
       " ('|', '｜', 124, 65372),\n",
       " ('}', '｝', 125, 65373),\n",
       " ('~', '～', 126, 65374),\n",
       " ('(', '｟', 40, 65375),\n",
       " (')', '｠', 41, 65376),\n",
       " ('｡', '｡', 65377, 65377),\n",
       " ('｢', '｢', 65378, 65378),\n",
       " ('｣', '｣', 65379, 65379),\n",
       " (',', '､', 44, 65380),\n",
       " ('.', '･', 46, 65381)]"
      ]
     },
     "execution_count": 7,
     "metadata": {},
     "output_type": "execute_result"
    }
   ],
   "source": [
    "list(zip(symbol, fullwidth_symbol, [ord(x) for x in symbol], [ord(x) for x in fullwidth_symbol]))"
   ]
  },
  {
   "cell_type": "code",
   "execution_count": null,
   "metadata": {
    "collapsed": true
   },
   "outputs": [],
   "source": []
  }
 ],
 "metadata": {
  "kernelspec": {
   "display_name": "Python 3",
   "language": "python",
   "name": "python3"
  },
  "language_info": {
   "codemirror_mode": {
    "name": "ipython",
    "version": 3
   },
   "file_extension": ".py",
   "mimetype": "text/x-python",
   "name": "python",
   "nbconvert_exporter": "python",
   "pygments_lexer": "ipython3",
   "version": "3.6.3"
  }
 },
 "nbformat": 4,
 "nbformat_minor": 2
}
